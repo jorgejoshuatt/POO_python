{
  "cells": [
    {
      "cell_type": "markdown",
      "metadata": {
        "id": "view-in-github",
        "colab_type": "text"
      },
      "source": [
        "<a href=\"https://colab.research.google.com/github/jorgejoshuatt/POO_python/blob/main/lunes/lunesPOO.ipynb\" target=\"_parent\"><img src=\"https://colab.research.google.com/assets/colab-badge.svg\" alt=\"Open In Colab\"/></a>"
      ]
    },
    {
      "cell_type": "code",
      "execution_count": null,
      "metadata": {
        "colab": {
          "base_uri": "https://localhost:8080/"
        },
        "id": "Urh06YrpCw_G",
        "outputId": "500676b9-a380-4ac9-9bc2-df1247572340"
      },
      "outputs": [
        {
          "name": "stdout",
          "output_type": "stream",
          "text": [
            "Hola Mundo\n",
            "Hola Mundo\n",
            "HolaMundo\n",
            "Hola-Mundo\n",
            "HolaMundo\n"
          ]
        }
      ],
      "source": [
        "# Esto es un comentario\n",
        "print(\"Hola Mundo\")  # Esto imprime \"Hola Mundo\"\n",
        "\n",
        "print(\"Hola\", \"Mundo\")\n",
        "\n",
        "print(\"Hola\" + \"Mundo\")\n",
        "\n",
        "print(\"Hola\", \"Mundo\", sep=\"-\")  # Imprime: Hola-Mundo\n",
        "\n",
        "print(\"Hola\", end=\"\")\n",
        "print(\"Mundo\")  # Imprime: HolaMundo"
      ]
    },
    {
      "cell_type": "code",
      "execution_count": null,
      "metadata": {
        "colab": {
          "base_uri": "https://localhost:8080/"
        },
        "id": "UzE9PlPtDBM6",
        "outputId": "3b91db95-1153-493a-ec9e-2a7988dcad22"
      },
      "outputs": [
        {
          "name": "stdout",
          "output_type": "stream",
          "text": [
            "Mi nombre es José y estudio ICO, la mejor en la FES Aragón\n",
            "Mi nombre es José y estudio ICO, la mejor en la FES Aragón\n"
          ]
        }
      ],
      "source": [
        "nombre = \"José\"\n",
        "carrera = \"ICO, la mejor\"\n",
        "print(\"Mi nombre es {} y estudio {} en la FES Aragón\".format(nombre, carrera))\n",
        "\n",
        "\n",
        "nombre = \"José\"\n",
        "carrera = \"ICO, la mejor\"\n",
        "print(f\"Mi nombre es { nombre} y estudio { carrera } en la FES Aragón\")"
      ]
    },
    {
      "cell_type": "code",
      "execution_count": null,
      "metadata": {
        "colab": {
          "base_uri": "https://localhost:8080/",
          "height": 35
        },
        "id": "eV8sfCBQDEon",
        "outputId": "9c5b14df-300a-4f0c-95e2-de43e26a10d6"
      },
      "outputs": [
        {
          "data": {
            "application/vnd.google.colaboratory.intrinsic+json": {
              "type": "string"
            },
            "text/plain": [
              "'\\neste es\\nun \\ncomentario de\\nmúltiple línea\\n'"
            ]
          },
          "execution_count": 3,
          "metadata": {},
          "output_type": "execute_result"
        }
      ],
      "source": [
        "\"\"\"\n",
        "este es\n",
        "un\n",
        "comentario de\n",
        "múltiple línea\n",
        "\"\"\""
      ]
    },
    {
      "cell_type": "code",
      "execution_count": null,
      "metadata": {
        "id": "wHjOan0BDFi3"
      },
      "outputs": [],
      "source": [
        "# Operadores aritméticos\n",
        "suma = 5 + 3    # 8\n",
        "resta = 5 - 3   # 2\n",
        "producto = 5 * 3  # 15\n",
        "division = 5 / 3  # 1.66667\n",
        "division2 = 5 // 3 # 1\n",
        "modulo = 5 % 3   # 2\n",
        "potencia = 5 ** 3  # 125"
      ]
    },
    {
      "cell_type": "code",
      "execution_count": null,
      "metadata": {
        "id": "tNgTlbuJDHs8"
      },
      "outputs": [],
      "source": [
        "# Operadores de comparación\n",
        "igual = 5 == 3  # False\n",
        "diferente = 5 != 3  # True\n",
        "mayor_que = 5 > 3  # True\n",
        "menor_que = 5 < 3  # False\n",
        "mayor_o_igual_que = 5 >= 3  # True\n",
        "menor_o_igual_que = 5 <= 3  # False"
      ]
    },
    {
      "cell_type": "code",
      "execution_count": null,
      "metadata": {
        "id": "jGgsULe1DKhI"
      },
      "outputs": [],
      "source": [
        "# Operadores lógicos\n",
        "y = True and False  # False\n",
        "o = True or False  # True\n",
        "no = not True  # False"
      ]
    },
    {
      "cell_type": "code",
      "execution_count": null,
      "metadata": {
        "id": "_YCm6QdtDMkZ"
      },
      "outputs": [],
      "source": [
        "saludo = \"Hola Mundo\"\n",
        "cita = 'Los alumnos de ICO dicen: \"Hola Mundo\"'\n",
        "parrafo = \"\"\"Esto es un párrafo\n",
        "que abarca varias\n",
        "líneas\"\"\""
      ]
    },
    {
      "cell_type": "code",
      "execution_count": null,
      "metadata": {
        "id": "yb7D7_PRDOPX"
      },
      "outputs": [],
      "source": [
        "def fn_uno():\n",
        "    print(\"Hola\")"
      ]
    },
    {
      "cell_type": "code",
      "execution_count": null,
      "metadata": {
        "colab": {
          "base_uri": "https://localhost:8080/"
        },
        "id": "l3TQ-WpyDSAF",
        "outputId": "3cf070e5-1997-4012-f10a-23c38690241b"
      },
      "outputs": [
        {
          "name": "stdout",
          "output_type": "stream",
          "text": [
            "10\n",
            "Hola\n",
            "3.4\n"
          ]
        }
      ],
      "source": [
        "a, b, c = 10, \"Hola\", [2.3, 3.4]\n",
        "print(a)\n",
        "print(b)\n",
        "print(c[1])"
      ]
    },
    {
      "cell_type": "code",
      "execution_count": null,
      "metadata": {
        "colab": {
          "base_uri": "https://localhost:8080/"
        },
        "id": "VD0w6fQUDUDX",
        "outputId": "1f3a69ea-9e52-4f75-8092-898921ae2676"
      },
      "outputs": [
        {
          "name": "stdout",
          "output_type": "stream",
          "text": [
            "Por favor, introduce tu nombre: Josh\n",
            "Hola Josh!\n"
          ]
        }
      ],
      "source": [
        "# entrada por teclado\n",
        "nombre = input(\"Por favor, introduce tu nombre: \")\n",
        "print(f\"Hola {nombre}!\")"
      ]
    },
    {
      "cell_type": "code",
      "execution_count": null,
      "metadata": {
        "colab": {
          "base_uri": "https://localhost:8080/"
        },
        "id": "6BZUyZxfDXOl",
        "outputId": "68c4bb76-d2e3-4184-946b-9b2988a1caa3"
      },
      "outputs": [
        {
          "name": "stdout",
          "output_type": "stream",
          "text": [
            "Introduce tu edad:22\n",
            "Josh tiene 22 años\n"
          ]
        }
      ],
      "source": [
        "edad = int(input(\"Introduce tu edad:\"))\n",
        "print(f\"{nombre} tiene {edad} años\")"
      ]
    },
    {
      "cell_type": "code",
      "execution_count": null,
      "metadata": {
        "id": "wcGXImEyDaOD"
      },
      "outputs": [],
      "source": [
        "mensaje = \"Hola Mundo\"  # String\n",
        "edad = 20               # Integer\n",
        "pi = 3.14159            # Float\n",
        "es_mayor = True         # Boolean\n",
        "imaginario = 3 + 4j     # Imaginario"
      ]
    },
    {
      "cell_type": "code",
      "execution_count": null,
      "metadata": {
        "colab": {
          "base_uri": "https://localhost:8080/"
        },
        "id": "vUoWOnEWDoBU",
        "outputId": "ac5d12f8-d307-46eb-f596-44ab2112e5fd"
      },
      "outputs": [
        {
          "output_type": "stream",
          "name": "stdout",
          "text": [
            "fresa\n",
            "fresa\n"
          ]
        }
      ],
      "source": [
        "frutas=['limon','aguacate','fresa']\n",
        "print(frutas[2])\n",
        "print(frutas[-1])"
      ]
    },
    {
      "cell_type": "code",
      "source": [
        "cosas=['limon',10,3.1416,True, [1,2,3,4], \"hola\"]\n",
        "print(cosas)"
      ],
      "metadata": {
        "colab": {
          "base_uri": "https://localhost:8080/"
        },
        "id": "IFdD7OfyEIFZ",
        "outputId": "cfe14873-6b39-4ba7-928c-8feea364c8e9"
      },
      "execution_count": null,
      "outputs": [
        {
          "output_type": "stream",
          "name": "stdout",
          "text": [
            "['limon', 10, 3.1416, True, [1, 2, 3, 4], 'hola']\n"
          ]
        }
      ]
    },
    {
      "cell_type": "markdown",
      "source": [
        "# Slicing en python\n",
        "\n",
        "[ inicio : stop : step ]\n",
        "\n",
        "Es la poibilidad de obtener rebanadas a partir de un tipo de  datos lista o tupla, en general de un iterable. Un tipo de dato String es un iterable.\n",
        "\n",
        "Por defecto:\n",
        "\n",
        "Inicio=0\n",
        "stop es igual al tamaño de la variable\n",
        "step=1"
      ],
      "metadata": {
        "id": "wpnijpSZFI8f"
      }
    },
    {
      "cell_type": "code",
      "source": [
        "ejemplo=[1,2,3,4,5,6,'a','b','c','d','e']\n",
        "print(ejemplo)"
      ],
      "metadata": {
        "id": "fgOeHFGOGFMl",
        "colab": {
          "base_uri": "https://localhost:8080/"
        },
        "outputId": "b0cf8ac2-c02d-4efd-c6e6-1b71757aeadb"
      },
      "execution_count": null,
      "outputs": [
        {
          "output_type": "stream",
          "name": "stdout",
          "text": [
            "[1, 2, 3, 4, 5, 6, 'a', 'b', 'c', 'd', 'e']\n"
          ]
        }
      ]
    },
    {
      "cell_type": "code",
      "source": [
        "rebanada=ejemplo[:9]\n",
        "print(rebanada)"
      ],
      "metadata": {
        "colab": {
          "base_uri": "https://localhost:8080/"
        },
        "id": "HTq6uzsjK0Ei",
        "outputId": "7212fd34-036f-449f-f26c-a1324a50f680"
      },
      "execution_count": null,
      "outputs": [
        {
          "output_type": "stream",
          "name": "stdout",
          "text": [
            "[1, 2, 3, 4, 5, 6, 'a', 'b', 'c']\n"
          ]
        }
      ]
    },
    {
      "cell_type": "code",
      "source": [
        "frutas_dos=('Aguacate','Limon','Naranja') #Las tuplas son inmutables\n",
        "\n",
        "print(frutas_dos[1:2])\n"
      ],
      "metadata": {
        "colab": {
          "base_uri": "https://localhost:8080/"
        },
        "id": "rP9lU8nFK_YL",
        "outputId": "11e49c63-0910-4dc6-85f3-ecdb6ac50629"
      },
      "execution_count": null,
      "outputs": [
        {
          "output_type": "stream",
          "name": "stdout",
          "text": [
            "('Limon',)\n"
          ]
        }
      ]
    },
    {
      "cell_type": "markdown",
      "source": [
        "# Diccionarios teoría\n",
        "\n",
        "1. Es un conjnto de pares llave valor\n",
        "1. Agrupados por':'\n",
        "1. La llave siempre es de tipo string\n",
        "1. El valor puede ser de cualquier tipo\n",
        "1. El selector de la forma ['llave']\n",
        "1. Mutable\n",
        "1. Se declara entre los caracteres '{' y '}'"
      ],
      "metadata": {
        "id": "J6i-KdTuLbSP"
      }
    },
    {
      "cell_type": "code",
      "source": [
        "alumno={'numero_cuenta': 12222222, 'carrera':'ICO',\n",
        "        'direccion':{'calle':'Rancho seco','numero':23}}\n",
        "\n",
        "print(alumno['direccion']['calle'][3:6])"
      ],
      "metadata": {
        "colab": {
          "base_uri": "https://localhost:8080/"
        },
        "id": "w1KUxiDdKyxQ",
        "outputId": "fc8a9e88-438a-4f25-ab88-84087cfe03d1"
      },
      "execution_count": null,
      "outputs": [
        {
          "output_type": "stream",
          "name": "stdout",
          "text": [
            "cho\n"
          ]
        }
      ]
    }
  ],
  "metadata": {
    "colab": {
      "provenance": [],
      "authorship_tag": "ABX9TyO0ow2AEfAhZsATjAQ9dOU7",
      "include_colab_link": true
    },
    "kernelspec": {
      "display_name": "Python 3",
      "name": "python3"
    },
    "language_info": {
      "name": "python"
    }
  },
  "nbformat": 4,
  "nbformat_minor": 0
}